{
 "cells": [
  {
   "cell_type": "code",
   "execution_count": 3,
   "id": "8fd36afc",
   "metadata": {
    "ExecuteTime": {
     "end_time": "2022-06-06T01:58:50.911171Z",
     "start_time": "2022-06-06T01:58:50.906072Z"
    }
   },
   "outputs": [],
   "source": [
    "from PyPDF2 import PdfFileWriter, PdfFileReader"
   ]
  },
  {
   "cell_type": "code",
   "execution_count": 25,
   "id": "17469cc5",
   "metadata": {
    "ExecuteTime": {
     "end_time": "2022-06-06T03:03:24.774015Z",
     "start_time": "2022-06-06T03:03:18.079393Z"
    }
   },
   "outputs": [],
   "source": [
    "books = [{\n",
    "    'name': '../Documents/PDF/CSAPP/Chapter 4：Processor Arachitecture.pdf',\n",
    "    'start': 387,\n",
    "    'end': 531\n",
    "}, {\n",
    "    'name': '../Documents/PDF/CSAPP/Chapter 5：Optimizing Program Performance.pdf',\n",
    "    'start': 531,\n",
    "    'end': 615\n",
    "}, {\n",
    "    'name': '../Documents/PDF/CSAPP/Chapter 6：The Memory Hierarachy.pdf',\n",
    "    'start': 615,\n",
    "    'end': 703\n",
    "}, {\n",
    "    'name': '../Documents/PDF/CSAPP/Chapter 7：Linking.pdf',\n",
    "    'start': 705,\n",
    "    'end': 756\n",
    "}, {\n",
    "    'name': '../Documents/PDF/CSAPP/Chapter 8：Exceptional Control Flow.pdf',\n",
    "    'start': 757,\n",
    "    'end': 836\n",
    "}, {\n",
    "    'name': '../Documents/PDF/CSAPP/Chapter 9：Virtual Memory.pdf',\n",
    "    'start': 837,\n",
    "    'end': 922 \n",
    "}, {\n",
    "    'name': '../Documents/PDF/CSAPP/Chapter 10：System-Level IO.pdf',\n",
    "    'start': 925,\n",
    "    'end': 953 \n",
    "}, {\n",
    "    'name': '../Documents/PDF/CSAPP/Chapter 11：Network Programming.pdf',\n",
    "    'start': 953,\n",
    "    'end': 1006 \n",
    "}, {\n",
    "    'name': '../Documents/PDF/CSAPP/Chapter 12：Concurrent Programming.pdf',\n",
    "    'start': 1007,\n",
    "    'end': 1076 \n",
    "}]\n",
    "\n",
    "in_file = 'CSAPP.pdf'\n",
    "\n",
    "for i in range(len(books)):\n",
    "    book = books[i]\n",
    "    \n",
    "    output = PdfFileWriter()\n",
    "    with open(in_file, 'rb') as in_pdf:\n",
    "        pdf = PdfFileReader(in_pdf)\n",
    "        for i in range(book['start'], book['end']):\n",
    "            output.addPage(pdf.getPage(i))\n",
    "\n",
    "        with open(book['name'], 'wb') as out_pdf:\n",
    "            output.write(out_pdf)"
   ]
  },
  {
   "cell_type": "code",
   "execution_count": null,
   "id": "b2ac73c7",
   "metadata": {},
   "outputs": [],
   "source": []
  }
 ],
 "metadata": {
  "kernelspec": {
   "display_name": "Python 3",
   "language": "python",
   "name": "python3"
  },
  "language_info": {
   "codemirror_mode": {
    "name": "ipython",
    "version": 3
   },
   "file_extension": ".py",
   "mimetype": "text/x-python",
   "name": "python",
   "nbconvert_exporter": "python",
   "pygments_lexer": "ipython3",
   "version": "3.8.8"
  },
  "varInspector": {
   "cols": {
    "lenName": 16,
    "lenType": 16,
    "lenVar": 40
   },
   "kernels_config": {
    "python": {
     "delete_cmd_postfix": "",
     "delete_cmd_prefix": "del ",
     "library": "var_list.py",
     "varRefreshCmd": "print(var_dic_list())"
    },
    "r": {
     "delete_cmd_postfix": ") ",
     "delete_cmd_prefix": "rm(",
     "library": "var_list.r",
     "varRefreshCmd": "cat(var_dic_list()) "
    }
   },
   "types_to_exclude": [
    "module",
    "function",
    "builtin_function_or_method",
    "instance",
    "_Feature"
   ],
   "window_display": false
  }
 },
 "nbformat": 4,
 "nbformat_minor": 5
}
